{
 "cells": [
  {
   "cell_type": "code",
   "execution_count": 1,
   "metadata": {},
   "outputs": [
    {
     "data": {
      "text/html": [
       "<div>\n",
       "<style scoped>\n",
       "    .dataframe tbody tr th:only-of-type {\n",
       "        vertical-align: middle;\n",
       "    }\n",
       "\n",
       "    .dataframe tbody tr th {\n",
       "        vertical-align: top;\n",
       "    }\n",
       "\n",
       "    .dataframe thead th {\n",
       "        text-align: right;\n",
       "    }\n",
       "</style>\n",
       "<table border=\"1\" class=\"dataframe\">\n",
       "  <thead>\n",
       "    <tr style=\"text-align: right;\">\n",
       "      <th></th>\n",
       "      <th>Unnamed: 0</th>\n",
       "      <th>url</th>\n",
       "      <th>label</th>\n",
       "      <th>result</th>\n",
       "    </tr>\n",
       "  </thead>\n",
       "  <tbody>\n",
       "    <tr>\n",
       "      <th>210229</th>\n",
       "      <td>210229</td>\n",
       "      <td>https://www.hiltonheadhomesandvillas.com/</td>\n",
       "      <td>benign</td>\n",
       "      <td>0</td>\n",
       "    </tr>\n",
       "    <tr>\n",
       "      <th>9587</th>\n",
       "      <td>9587</td>\n",
       "      <td>https://www.blog.us.playstation.com/2011/09/27...</td>\n",
       "      <td>benign</td>\n",
       "      <td>0</td>\n",
       "    </tr>\n",
       "    <tr>\n",
       "      <th>33368</th>\n",
       "      <td>33368</td>\n",
       "      <td>https://www.en.wikipedia.org/wiki/Film</td>\n",
       "      <td>benign</td>\n",
       "      <td>0</td>\n",
       "    </tr>\n",
       "    <tr>\n",
       "      <th>178602</th>\n",
       "      <td>178602</td>\n",
       "      <td>https://www.eforu.com/birthdays/1941.html</td>\n",
       "      <td>benign</td>\n",
       "      <td>0</td>\n",
       "    </tr>\n",
       "    <tr>\n",
       "      <th>341562</th>\n",
       "      <td>341562</td>\n",
       "      <td>https://www.mattmillersoccer.com/wpi/</td>\n",
       "      <td>benign</td>\n",
       "      <td>0</td>\n",
       "    </tr>\n",
       "    <tr>\n",
       "      <th>...</th>\n",
       "      <td>...</td>\n",
       "      <td>...</td>\n",
       "      <td>...</td>\n",
       "      <td>...</td>\n",
       "    </tr>\n",
       "    <tr>\n",
       "      <th>338565</th>\n",
       "      <td>338565</td>\n",
       "      <td>https://www.zionriverresort.com/</td>\n",
       "      <td>benign</td>\n",
       "      <td>0</td>\n",
       "    </tr>\n",
       "    <tr>\n",
       "      <th>124231</th>\n",
       "      <td>124231</td>\n",
       "      <td>https://www.360canaries.com/gran-canaria/gran-...</td>\n",
       "      <td>benign</td>\n",
       "      <td>0</td>\n",
       "    </tr>\n",
       "    <tr>\n",
       "      <th>159719</th>\n",
       "      <td>159719</td>\n",
       "      <td>https://www.cdbaby.com/style/9</td>\n",
       "      <td>benign</td>\n",
       "      <td>0</td>\n",
       "    </tr>\n",
       "    <tr>\n",
       "      <th>264086</th>\n",
       "      <td>264086</td>\n",
       "      <td>https://www.njcaa.org/colleges_college_player....</td>\n",
       "      <td>benign</td>\n",
       "      <td>0</td>\n",
       "    </tr>\n",
       "    <tr>\n",
       "      <th>213290</th>\n",
       "      <td>213290</td>\n",
       "      <td>https://www.hotels.com/ho109787/days-inn-las-v...</td>\n",
       "      <td>benign</td>\n",
       "      <td>0</td>\n",
       "    </tr>\n",
       "  </tbody>\n",
       "</table>\n",
       "<p>100 rows × 4 columns</p>\n",
       "</div>"
      ],
      "text/plain": [
       "        Unnamed: 0                                                url   label  \\\n",
       "210229      210229          https://www.hiltonheadhomesandvillas.com/  benign   \n",
       "9587          9587  https://www.blog.us.playstation.com/2011/09/27...  benign   \n",
       "33368        33368             https://www.en.wikipedia.org/wiki/Film  benign   \n",
       "178602      178602          https://www.eforu.com/birthdays/1941.html  benign   \n",
       "341562      341562              https://www.mattmillersoccer.com/wpi/  benign   \n",
       "...            ...                                                ...     ...   \n",
       "338565      338565                   https://www.zionriverresort.com/  benign   \n",
       "124231      124231  https://www.360canaries.com/gran-canaria/gran-...  benign   \n",
       "159719      159719                     https://www.cdbaby.com/style/9  benign   \n",
       "264086      264086  https://www.njcaa.org/colleges_college_player....  benign   \n",
       "213290      213290  https://www.hotels.com/ho109787/days-inn-las-v...  benign   \n",
       "\n",
       "        result  \n",
       "210229       0  \n",
       "9587         0  \n",
       "33368        0  \n",
       "178602       0  \n",
       "341562       0  \n",
       "...        ...  \n",
       "338565       0  \n",
       "124231       0  \n",
       "159719       0  \n",
       "264086       0  \n",
       "213290       0  \n",
       "\n",
       "[100 rows x 4 columns]"
      ]
     },
     "execution_count": 1,
     "metadata": {},
     "output_type": "execute_result"
    }
   ],
   "source": [
    "import pandas as pd\n",
    "from urllib.parse import urlparse\n",
    "import re\n",
    "import ipaddress\n",
    "\n",
    "# Load the dataset\n",
    "df = pd.read_csv('urldata.csv')\n",
    "\n",
    "# Inspect data\n",
    "df.sample(100)"
   ]
  },
  {
   "cell_type": "code",
   "execution_count": 2,
   "metadata": {},
   "outputs": [],
   "source": [
    "# feature extraction preformed by URLFeatureExtraction.py\n",
    "# python URLFeatureExtraction.py urldata.csv returns featuredata.csv\n",
    "df = pd.read_csv('featuredata.csv', on_bad_lines='skip')\n",
    "\n",
    "features = ['Have_IP', 'Have_At', 'URL_Length', 'URL_Depth','Redirection', \n",
    "                        'https_Domain', 'TinyURL', 'Prefix/Suffix', 'DNS_Record',\n",
    "                        'Domain_Age', 'Domain_End', 'iFrame', 'Mouse_Over','Right_Click', 'Web_Forwards']\n"
   ]
  },
  {
   "cell_type": "code",
   "execution_count": 3,
   "metadata": {},
   "outputs": [],
   "source": [
    "# Convert the features into separate columns\n",
    "# df_features = pd.DataFrame(df['features'].tolist(), index=df.index, columns=features)\n",
    "\n",
    "# Combine the extracted features with the original DataFrame\n",
    "# df_combined = pd.concat([df, df_features], axis=1)\n",
    "df = df.dropna(subset=['Label'])\n"
   ]
  },
  {
   "cell_type": "code",
   "execution_count": 4,
   "metadata": {},
   "outputs": [],
   "source": [
    "from sklearn.model_selection import train_test_split\n",
    "from imblearn.over_sampling import SMOTE\n",
    "from sklearn.ensemble import RandomForestClassifier\n",
    "from sklearn.metrics import accuracy_score, classification_report\n",
    "\n",
    "\n",
    "# Define X (features) and y (target)\n",
    "X = df[features]\n",
    "y = df['Label']\n",
    "\n",
    "# Step 1: Perform the train-test split\n",
    "X_train, X_test, y_train, y_test = train_test_split(X, y, test_size=0.2, random_state=42)\n",
    "\n",
    "# Step 2: Use SMOTE to balance the training data\n",
    "smote = SMOTE(random_state=42)\n",
    "X_train_resampled, y_train_resampled = smote.fit_resample(X_train, y_train)\n",
    "\n",
    "# Step 3: Train the model on the resampled data\n",
    "rf_model = RandomForestClassifier(n_estimators=100, random_state=42)\n",
    "rf_model.fit(X_train_resampled, y_train_resampled)\n",
    "\n",
    "# Step 4: Make predictions on the test set\n",
    "y_pred = rf_model.predict(X_test)\n",
    "\n"
   ]
  },
  {
   "cell_type": "code",
   "execution_count": 5,
   "metadata": {},
   "outputs": [
    {
     "name": "stderr",
     "output_type": "stream",
     "text": [
      "c:\\Users\\kesha\\anaconda3\\Lib\\site-packages\\keras\\src\\layers\\core\\dense.py:87: UserWarning: Do not pass an `input_shape`/`input_dim` argument to a layer. When using Sequential models, prefer using an `Input(shape)` object as the first layer in the model instead.\n",
      "  super().__init__(activity_regularizer=activity_regularizer, **kwargs)\n"
     ]
    },
    {
     "name": "stdout",
     "output_type": "stream",
     "text": [
      "Epoch 1/2\n",
      "\u001b[1m308/308\u001b[0m \u001b[32m━━━━━━━━━━━━━━━━━━━━\u001b[0m\u001b[37m\u001b[0m \u001b[1m6s\u001b[0m 6ms/step - accuracy: 0.6410 - loss: 0.6285 - val_accuracy: 0.7436 - val_loss: 0.5264\n",
      "Epoch 2/2\n",
      "\u001b[1m308/308\u001b[0m \u001b[32m━━━━━━━━━━━━━━━━━━━━\u001b[0m\u001b[37m\u001b[0m \u001b[1m2s\u001b[0m 4ms/step - accuracy: 0.7258 - loss: 0.5406 - val_accuracy: 0.7478 - val_loss: 0.5115\n",
      "\u001b[1m278/278\u001b[0m \u001b[32m━━━━━━━━━━━━━━━━━━━━\u001b[0m\u001b[37m\u001b[0m \u001b[1m1s\u001b[0m 2ms/step - accuracy: 0.7509 - loss: 0.5106\n",
      "Test Accuracy: 0.7477741241455078\n"
     ]
    }
   ],
   "source": [
    "# Feature extracted URLs tested\n",
    "import pandas as pd\n",
    "import numpy as np\n",
    "from sklearn.model_selection import train_test_split\n",
    "from tensorflow.keras.preprocessing.text import Tokenizer\n",
    "from tensorflow.keras.preprocessing.sequence import pad_sequences\n",
    "from tensorflow.keras.models import Sequential\n",
    "from tensorflow.keras.layers import Embedding, Dense, Dropout, Bidirectional\n",
    "from tensorflow.keras.optimizers import Adam\n",
    "model = Sequential([\n",
    "    Dense(64, activation='relu', input_shape=(X_train.shape[1],)),\n",
    "    Dropout(0.5),\n",
    "    Dense(32, activation='relu'),\n",
    "    Dense(1, activation='sigmoid')\n",
    "])\n",
    "\n",
    "model.compile(optimizer=Adam(learning_rate=0.001), loss='binary_crossentropy', metrics=['accuracy'])\n",
    "\n",
    "# Step 4: Train the model\n",
    "history = model.fit(X_train_resampled, y_train_resampled, epochs=2, batch_size=128, validation_data=(X_test, y_test))\n",
    "\n",
    "# Step 5: Evaluate the model\n",
    "loss, accuracy = model.evaluate(X_test, y_test)\n",
    "print(f'Test Accuracy: {accuracy}')\n",
    "\n"
   ]
  },
  {
   "cell_type": "code",
   "execution_count": 7,
   "metadata": {},
   "outputs": [
    {
     "name": "stdout",
     "output_type": "stream",
     "text": [
      "\u001b[1m278/278\u001b[0m \u001b[32m━━━━━━━━━━━━━━━━━━━━\u001b[0m\u001b[37m\u001b[0m \u001b[1m137s\u001b[0m 445ms/step - accuracy: 0.7921 - loss: 0.4077 - val_accuracy: 0.9802 - val_loss: 0.0649\n",
      "\u001b[1m278/278\u001b[0m \u001b[32m━━━━━━━━━━━━━━━━━━━━\u001b[0m\u001b[37m\u001b[0m \u001b[1m16s\u001b[0m 57ms/step - accuracy: 0.9815 - loss: 0.0627\n",
      "Test Accuracy Bi: 0.9801645278930664\n"
     ]
    }
   ],
   "source": [
    "import pandas as pd\n",
    "import numpy as np\n",
    "from sklearn.model_selection import train_test_split\n",
    "from tensorflow.keras.preprocessing.text import Tokenizer\n",
    "from tensorflow.keras.preprocessing.sequence import pad_sequences\n",
    "from tensorflow.keras.models import Sequential\n",
    "from tensorflow.keras.layers import Embedding, Dense, Bidirectional, LSTM\n",
    "from tensorflow.keras.optimizers import Adam\n",
    "\n",
    "# Step 1: Prepare the data (0 for benign, 1 for phishing)\n",
    "\n",
    "# Tokenize the URLs (character-level tokenization)\n",
    "tokenizer = Tokenizer(char_level=True)\n",
    "tokenizer.fit_on_texts(df['URL'])\n",
    "\n",
    "# Convert the URLs into sequences of integers\n",
    "url_sequences = tokenizer.texts_to_sequences(df['URL'])\n",
    "\n",
    "# Pad the sequences to make them of equal length\n",
    "max_sequence_length = 100  # can be adjusted based on data\n",
    "X = pad_sequences(url_sequences, maxlen=max_sequence_length)\n",
    "\n",
    "# Target labels\n",
    "y = df['Label'].values\n",
    "\n",
    "# Step 2: Train-Test Split\n",
    "X_train, X_test, y_train, y_test = train_test_split(X, y, test_size=0.2, random_state=42)\n",
    "\n",
    "# Step 3: Build the LSTM model\n",
    "vocab_size = len(tokenizer.word_index) + 1  # Total number of unique characters\n",
    "embedding_dim = 50  # Size of the character embedding vectors\n",
    "\n",
    "model = Sequential()\n",
    "# Embedding layer (convert each character to a dense vector)\n",
    "model.add(Embedding(input_dim=vocab_size, output_dim=embedding_dim, input_length=max_sequence_length))\n",
    "# LSTM layer\n",
    "model.add(Bidirectional(LSTM(128, return_sequences=False)))\n",
    "# Output layer (binary classification)\n",
    "model.add(Dense(1, activation='sigmoid'))\n",
    "\n",
    "# Compile the model\n",
    "model.compile(optimizer=Adam(learning_rate=0.001), loss='binary_crossentropy', metrics=['accuracy'])\n",
    "\n",
    "# Step 4: Train the model\n",
    "model.fit(X_train, y_train, epochs=1, batch_size=128, validation_data=(X_test, y_test))\n",
    "\n",
    "# Step 5: Evaluate the model\n",
    "loss, accuracy = model.evaluate(X_test, y_test)\n",
    "print(f'Test Accuracy Bi: {accuracy}')"
   ]
  },
  {
   "cell_type": "code",
   "execution_count": null,
   "metadata": {},
   "outputs": [
    {
     "name": "stdout",
     "output_type": "stream",
     "text": [
      "Epoch 1/10\n",
      "\u001b[1m888/888\u001b[0m \u001b[32m━━━━━━━━━━━━━━━━━━━━\u001b[0m\u001b[37m\u001b[0m \u001b[1m126s\u001b[0m 142ms/step - accuracy: 0.9703 - loss: 0.1092 - val_accuracy: 0.9476 - val_loss: 0.1726\n",
      "Epoch 2/10\n",
      "\u001b[1m888/888\u001b[0m \u001b[32m━━━━━━━━━━━━━━━━━━━━\u001b[0m\u001b[37m\u001b[0m \u001b[1m133s\u001b[0m 150ms/step - accuracy: 0.9277 - loss: 0.1934 - val_accuracy: 0.9708 - val_loss: 0.0860\n",
      "Epoch 3/10\n",
      "\u001b[1m888/888\u001b[0m \u001b[32m━━━━━━━━━━━━━━━━━━━━\u001b[0m\u001b[37m\u001b[0m \u001b[1m192s\u001b[0m 206ms/step - accuracy: 0.9685 - loss: 0.0890 - val_accuracy: 0.9869 - val_loss: 0.0414\n",
      "Epoch 4/10\n",
      "\u001b[1m888/888\u001b[0m \u001b[32m━━━━━━━━━━━━━━━━━━━━\u001b[0m\u001b[37m\u001b[0m \u001b[1m213s\u001b[0m 218ms/step - accuracy: 0.9856 - loss: 0.0420 - val_accuracy: 0.9901 - val_loss: 0.0300\n",
      "Epoch 5/10\n",
      "\u001b[1m888/888\u001b[0m \u001b[32m━━━━━━━━━━━━━━━━━━━━\u001b[0m\u001b[37m\u001b[0m \u001b[1m213s\u001b[0m 230ms/step - accuracy: 0.9698 - loss: 0.0992 - val_accuracy: 0.9915 - val_loss: 0.0279\n",
      "Epoch 6/10\n",
      "\u001b[1m888/888\u001b[0m \u001b[32m━━━━━━━━━━━━━━━━━━━━\u001b[0m\u001b[37m\u001b[0m \u001b[1m285s\u001b[0m 256ms/step - accuracy: 0.9917 - loss: 0.0267 - val_accuracy: 0.9932 - val_loss: 0.0242\n",
      "Epoch 7/10\n",
      "\u001b[1m888/888\u001b[0m \u001b[32m━━━━━━━━━━━━━━━━━━━━\u001b[0m\u001b[37m\u001b[0m \u001b[1m255s\u001b[0m 287ms/step - accuracy: 0.9935 - loss: 0.0209 - val_accuracy: 0.9928 - val_loss: 0.0221\n",
      "Epoch 8/10\n",
      "\u001b[1m888/888\u001b[0m \u001b[32m━━━━━━━━━━━━━━━━━━━━\u001b[0m\u001b[37m\u001b[0m \u001b[1m198s\u001b[0m 223ms/step - accuracy: 0.9935 - loss: 0.0196 - val_accuracy: 0.9946 - val_loss: 0.0202\n",
      "Epoch 9/10\n",
      "\u001b[1m888/888\u001b[0m \u001b[32m━━━━━━━━━━━━━━━━━━━━\u001b[0m\u001b[37m\u001b[0m \u001b[1m297s\u001b[0m 334ms/step - accuracy: 0.9952 - loss: 0.0148 - val_accuracy: 0.9945 - val_loss: 0.0217\n",
      "Epoch 10/10\n",
      "\u001b[1m888/888\u001b[0m \u001b[32m━━━━━━━━━━━━━━━━━━━━\u001b[0m\u001b[37m\u001b[0m \u001b[1m328s\u001b[0m 341ms/step - accuracy: 0.9962 - loss: 0.0136 - val_accuracy: 0.9941 - val_loss: 0.0188\n"
     ]
    },
    {
     "data": {
      "image/png": "[encoded data removed]",
      "text/plain": [
       "<Figure size 800x600 with 1 Axes>"
      ]
     },
     "metadata": {},
     "output_type": "display_data"
    }
   ],
   "source": [
    "import matplotlib.pyplot as plt\n",
    "\n",
    "# Plot training and validation accuracy\n",
    "history = model.fit(\n",
    "    X_train, y_train, \n",
    "    validation_split=0.2,  # Use 20% of the training data for validation\n",
    "    epochs=10, \n",
    "    batch_size=32\n",
    ")\n",
    "\n",
    "def plot_training_history(history):\n",
    "    plt.figure(figsize=(8, 6))\n",
    "    \n",
    "    # Plot the accuracy\n",
    "    plt.plot(history.history['accuracy'], label='Training Accuracy')\n",
    "    plt.plot(history.history['val_accuracy'], label='Validation Accuracy')\n",
    "    \n",
    "    # Add labels and legend\n",
    "    plt.title('Training and Validation Accuracy')\n",
    "    plt.xlabel('Epochs')\n",
    "    plt.ylabel('Accuracy')\n",
    "    plt.legend()\n",
    "    plt.grid(True)\n",
    "    plt.show()\n",
    "\n",
    "# Example usage: assuming you have a 'history' object\n",
    "plot_training_history(history)\n"
   ]
  },
  {
   "cell_type": "code",
   "execution_count": 10,
   "metadata": {},
   "outputs": [
    {
     "name": "stdout",
     "output_type": "stream",
     "text": [
      "\u001b[1m278/278\u001b[0m \u001b[32m━━━━━━━━━━━━━━━━━━━━\u001b[0m\u001b[37m\u001b[0m \u001b[1m15s\u001b[0m 49ms/step\n"
     ]
    },
    {
     "data": {
      "text/plain": [
       "<sklearn.metrics._plot.confusion_matrix.ConfusionMatrixDisplay at 0x1c14cb567b0>"
      ]
     },
     "execution_count": 10,
     "metadata": {},
     "output_type": "execute_result"
    },
    {
     "data": {
      "image/png": "[encoded data removed]",
      "text/plain": [
       "<Figure size 640x480 with 2 Axes>"
      ]
     },
     "metadata": {},
     "output_type": "display_data"
    }
   ],
   "source": [
    "from sklearn.metrics import confusion_matrix, ConfusionMatrixDisplay\n",
    "\n",
    "# step 1: make predictions on test set\n",
    "y_pred = model.predict(X_test)\n",
    "y_pred = (y_pred > 0.5).astype(int)\n",
    "\n",
    "# step 2: gererate confusion matrix\n",
    "cm = confusion_matrix(y_test, y_pred)\n",
    "\n",
    "# step 3: display the confusion matrix\n",
    "disp = ConfusionMatrixDisplay(confusion_matrix=cm, display_labels=[\"Benign\",\"Phishing\"])\n",
    "disp.plot(cmap=\"Blues\", values_format='d')"
   ]
  }
 ],
 "metadata": {
  "kernelspec": {
   "display_name": "base",
   "language": "python",
   "name": "python3"
  },
  "language_info": {
   "codemirror_mode": {
    "name": "ipython",
    "version": 3
   },
   "file_extension": ".py",
   "mimetype": "text/x-python",
   "name": "python",
   "nbconvert_exporter": "python",
   "pygments_lexer": "ipython3",
   "version": "3.12.4"
  }
 },
 "nbformat": 4,
 "nbformat_minor": 2
}

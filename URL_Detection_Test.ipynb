{
 "cells": [
  {
   "cell_type": "code",
   "execution_count": 3,
   "id": "88caa954-46f8-415b-b741-4fa1534629e9",
   "metadata": {},
   "outputs": [
    {
     "data": {
      "text/html": [
       "<div>\n",
       "<style scoped>\n",
       "    .dataframe tbody tr th:only-of-type {\n",
       "        vertical-align: middle;\n",
       "    }\n",
       "\n",
       "    .dataframe tbody tr th {\n",
       "        vertical-align: top;\n",
       "    }\n",
       "\n",
       "    .dataframe thead th {\n",
       "        text-align: right;\n",
       "    }\n",
       "</style>\n",
       "<table border=\"1\" class=\"dataframe\">\n",
       "  <thead>\n",
       "    <tr style=\"text-align: right;\">\n",
       "      <th></th>\n",
       "      <th>Unnamed: 0</th>\n",
       "      <th>url</th>\n",
       "      <th>label</th>\n",
       "      <th>result</th>\n",
       "    </tr>\n",
       "  </thead>\n",
       "  <tbody>\n",
       "    <tr>\n",
       "      <th>445023</th>\n",
       "      <td>445023</td>\n",
       "      <td>http://fyinutrition.com/dspt/</td>\n",
       "      <td>malicious</td>\n",
       "      <td>1</td>\n",
       "    </tr>\n",
       "    <tr>\n",
       "      <th>127272</th>\n",
       "      <td>127272</td>\n",
       "      <td>https://www.absoluteastronomy.com/topics/Suzy_...</td>\n",
       "      <td>benign</td>\n",
       "      <td>0</td>\n",
       "    </tr>\n",
       "    <tr>\n",
       "      <th>336131</th>\n",
       "      <td>336131</td>\n",
       "      <td>https://www.youtube.com/watch?v=oOSS4dF-NCQ</td>\n",
       "      <td>benign</td>\n",
       "      <td>0</td>\n",
       "    </tr>\n",
       "    <tr>\n",
       "      <th>439023</th>\n",
       "      <td>439023</td>\n",
       "      <td>http://cbfmrembang.com/wp-admin/ftpuser/norton...</td>\n",
       "      <td>malicious</td>\n",
       "      <td>1</td>\n",
       "    </tr>\n",
       "    <tr>\n",
       "      <th>62392</th>\n",
       "      <td>62392</td>\n",
       "      <td>https://www.joshkasuboski.com/</td>\n",
       "      <td>benign</td>\n",
       "      <td>0</td>\n",
       "    </tr>\n",
       "    <tr>\n",
       "      <th>...</th>\n",
       "      <td>...</td>\n",
       "      <td>...</td>\n",
       "      <td>...</td>\n",
       "      <td>...</td>\n",
       "    </tr>\n",
       "    <tr>\n",
       "      <th>293919</th>\n",
       "      <td>293919</td>\n",
       "      <td>https://www.spiritus-temporis.com/mary-pierce/</td>\n",
       "      <td>benign</td>\n",
       "      <td>0</td>\n",
       "    </tr>\n",
       "    <tr>\n",
       "      <th>260588</th>\n",
       "      <td>260588</td>\n",
       "      <td>https://www.nationalreview.com/corner/280358/r...</td>\n",
       "      <td>benign</td>\n",
       "      <td>0</td>\n",
       "    </tr>\n",
       "    <tr>\n",
       "      <th>307507</th>\n",
       "      <td>307507</td>\n",
       "      <td>https://www.topix.net/forum/city/princeton-wv/...</td>\n",
       "      <td>benign</td>\n",
       "      <td>0</td>\n",
       "    </tr>\n",
       "    <tr>\n",
       "      <th>313255</th>\n",
       "      <td>313255</td>\n",
       "      <td>https://www.ucmp.berkeley.edu/</td>\n",
       "      <td>benign</td>\n",
       "      <td>0</td>\n",
       "    </tr>\n",
       "    <tr>\n",
       "      <th>110099</th>\n",
       "      <td>110099</td>\n",
       "      <td>https://www.twitter.com/Smokey305</td>\n",
       "      <td>benign</td>\n",
       "      <td>0</td>\n",
       "    </tr>\n",
       "  </tbody>\n",
       "</table>\n",
       "<p>100 rows × 4 columns</p>\n",
       "</div>"
      ],
      "text/plain": [
       "        Unnamed: 0                                                url  \\\n",
       "445023      445023                      http://fyinutrition.com/dspt/   \n",
       "127272      127272  https://www.absoluteastronomy.com/topics/Suzy_...   \n",
       "336131      336131        https://www.youtube.com/watch?v=oOSS4dF-NCQ   \n",
       "439023      439023  http://cbfmrembang.com/wp-admin/ftpuser/norton...   \n",
       "62392        62392                     https://www.joshkasuboski.com/   \n",
       "...            ...                                                ...   \n",
       "293919      293919     https://www.spiritus-temporis.com/mary-pierce/   \n",
       "260588      260588  https://www.nationalreview.com/corner/280358/r...   \n",
       "307507      307507  https://www.topix.net/forum/city/princeton-wv/...   \n",
       "313255      313255                     https://www.ucmp.berkeley.edu/   \n",
       "110099      110099                  https://www.twitter.com/Smokey305   \n",
       "\n",
       "            label  result  \n",
       "445023  malicious       1  \n",
       "127272     benign       0  \n",
       "336131     benign       0  \n",
       "439023  malicious       1  \n",
       "62392      benign       0  \n",
       "...           ...     ...  \n",
       "293919     benign       0  \n",
       "260588     benign       0  \n",
       "307507     benign       0  \n",
       "313255     benign       0  \n",
       "110099     benign       0  \n",
       "\n",
       "[100 rows x 4 columns]"
      ]
     },
     "execution_count": 3,
     "metadata": {},
     "output_type": "execute_result"
    }
   ],
   "source": [
    "import pandas as pd\n",
    "\n",
    "# Load the dataset\n",
    "df = pd.read_csv('C:\\\\Users\\\\kesha\\\\Downloads\\\\urldata.csv\\\\urldata.csv')\n",
    "\n",
    "# Inspect data\n",
    "df.sample(100)\n"
   ]
  },
  {
   "cell_type": "code",
   "execution_count": 130,
   "id": "0786fc5c-8655-43a0-bd27-be83be783c47",
   "metadata": {},
   "outputs": [
    {
     "name": "stdout",
     "output_type": "stream",
     "text": [
      "Error processing URL http://ladiesfirst-privileges[.]com/656465/d5678h9.exe: '.' does not appear to be an IPv4 or IPv6 address\n",
      "        Unnamed: 0                                                url  \\\n",
      "0                0                             https://www.google.com   \n",
      "1                1                            https://www.youtube.com   \n",
      "2                2                           https://www.facebook.com   \n",
      "3                3                              https://www.baidu.com   \n",
      "4                4                          https://www.wikipedia.org   \n",
      "...            ...                                                ...   \n",
      "450171      450171        http://ecct-it.com/docmmmnn/aptgd/index.php   \n",
      "450172      450172  http://faboleena.com/js/infortis/jquery/plugin...   \n",
      "450173      450173  http://faboleena.com/js/infortis/jquery/plugin...   \n",
      "450174      450174                             http://atualizapj.com/   \n",
      "450175      450175  http://writeassociate.com/test/Portal/inicio/I...   \n",
      "\n",
      "            label  result          features  Have_IP  Have_At  URL_Length  \\\n",
      "0          benign       0   [0, 0, 0, 0, 0]      0.0      0.0         0.0   \n",
      "1          benign       0   [0, 0, 0, 0, 0]      0.0      0.0         0.0   \n",
      "2          benign       0   [0, 0, 0, 0, 0]      0.0      0.0         0.0   \n",
      "3          benign       0   [0, 0, 0, 0, 0]      0.0      0.0         0.0   \n",
      "4          benign       0   [0, 0, 0, 0, 0]      0.0      0.0         0.0   \n",
      "...           ...     ...               ...      ...      ...         ...   \n",
      "450171  malicious       1   [0, 0, 0, 3, 1]      0.0      0.0         0.0   \n",
      "450172  malicious       1  [0, 0, 1, 12, 0]      0.0      0.0         1.0   \n",
      "450173  malicious       1  [0, 0, 1, 11, 0]      0.0      0.0         1.0   \n",
      "450174  malicious       1   [0, 0, 0, 0, 0]      0.0      0.0         0.0   \n",
      "450175  malicious       1   [0, 0, 1, 6, 0]      0.0      0.0         1.0   \n",
      "\n",
      "        URL_Depth  TinyURL  \n",
      "0             0.0      0.0  \n",
      "1             0.0      0.0  \n",
      "2             0.0      0.0  \n",
      "3             0.0      0.0  \n",
      "4             0.0      0.0  \n",
      "...           ...      ...  \n",
      "450171        3.0      1.0  \n",
      "450172       12.0      0.0  \n",
      "450173       11.0      0.0  \n",
      "450174        0.0      0.0  \n",
      "450175        6.0      0.0  \n",
      "\n",
      "[450176 rows x 10 columns]\n"
     ]
    }
   ],
   "source": [
    "import pandas as pd\n",
    "df = pd.read_csv('C:\\\\Users\\\\kesha\\\\Downloads\\\\urldata.csv\\\\urldata.csv')\n",
    "\n",
    "from urllib.parse import urlparse\n",
    "import re\n",
    "import ipaddress\n",
    "\n",
    "# feature extraction function\n",
    "def featureExtraction(url):\n",
    "    features = []\n",
    "    try:\n",
    "        # Feature 1: Check for IP address in URL\n",
    "        def havingIP(url):\n",
    "            try:\n",
    "                ipaddress.ip_address(urlparse(url).netloc)\n",
    "                return 1\n",
    "            except ValueError:\n",
    "                return 0\n",
    "        \n",
    "        # Feature 2: Check for \"@\" symbol in URL\n",
    "        def haveAtSign(url):\n",
    "            return 1 if \"@\" in url else 0\n",
    "\n",
    "        # Feature 3: Length of URL\n",
    "        def getLength(url):\n",
    "            return 1 if len(url) >= 54 else 0\n",
    "\n",
    "        # Feature 4: Depth of URL\n",
    "        def getDepth(url):\n",
    "            path = urlparse(url).path.split('/')\n",
    "            return len([segment for segment in path if segment])\n",
    "\n",
    "        # Feature 5: Check if URL uses shortening services\n",
    "        def tinyURL(url):\n",
    "            # List of known shortening services\n",
    "            shortening_services = r\"(bit\\.ly|goo\\.gl|tinyurl\\.com|ow\\.ly|t\\.co|is\\.gd|shorte\\.st|x\\.co|tr\\.im|cli\\.gs|yfrog\\.com|migre\\.me|ff\\.im|tiny\\.cc|url4\\.eu|twitthis\\.com|u\\.to|j\\.mp|buzurl\\.com|cutt\\.us|tweez\\.me|v\\.gd|q\\.gs|post\\.ly|bkite\\.com|snipr\\.com|fic\\.kr|loopt\\.us|doiop\\.com|short\\.ie|kl\\.am|rubyurl\\.com|om\\.ly|to\\.ly)\"\n",
    "            return 1 if re.search(shortening_services, url) else 0\n",
    "\n",
    "\n",
    "        # Add features to the list\n",
    "        features.append(havingIP(url))\n",
    "        features.append(haveAtSign(url))\n",
    "        features.append(getLength(url))\n",
    "        features.append(getDepth(url))\n",
    "        features.append(tinyURL(url))\n",
    "\n",
    "    except Exception as e:\n",
    "        # Handle any exceptions or error\n",
    "        print(f\"Error processing URL {url}: {e}\")\n",
    "        return [None] * 5\n",
    "    \n",
    "    return features\n",
    "\n",
    "# Take a copy of the data to avoid SettingWithCopyWarning\n",
    "df_sample = df.copy() \n",
    "df_sample['features'] = df_sample['url'].apply(featureExtraction)\n",
    "\n",
    "# Convert the features into separate columns\n",
    "df_features = pd.DataFrame(df_sample['features'].tolist(), index=df_sample.index, columns=['Have_IP', 'Have_At', 'URL_Length', 'URL_Depth', 'TinyURL'])\n",
    "\n",
    "# Combine the extracted features with the original DataFrame\n",
    "df_combined = pd.concat([df_sample, df_features], axis=1)\n",
    "print(df_combined)\n"
   ]
  },
  {
   "cell_type": "code",
   "execution_count": 63,
   "id": "46123179-2763-497c-a852-c11afd80abdc",
   "metadata": {},
   "outputs": [
    {
     "data": {
      "image/png": "[encoded data removed]",
      "text/plain": [
       "<Figure size 1000x600 with 1 Axes>"
      ]
     },
     "metadata": {},
     "output_type": "display_data"
    }
   ],
   "source": [
    "import matplotlib.pyplot as plt\n",
    "import seaborn as sns\n",
    "\n",
    "# Set up the figure\n",
    "plt.figure(figsize=(10, 6))\n",
    "\n",
    "# Bar plot of URL_Length feature (Not that useful)\n",
    "sns.countplot(x='URL_Length', data=df_combined)\n",
    "plt.title('Distribution of URL Lengths')\n",
    "plt.show()\n"
   ]
  },
  {
   "cell_type": "code",
   "execution_count": 75,
   "id": "30e9a1f7-eaee-468c-b792-10128081608e",
   "metadata": {},
   "outputs": [
    {
     "data": {
      "image/png": "[encoded data removed]",
      "text/plain": [
       "<Figure size 1000x800 with 2 Axes>"
      ]
     },
     "metadata": {},
     "output_type": "display_data"
    }
   ],
   "source": [
    "# Create Heatmap for correlations (Also not extremely useful)\n",
    "df_corr = df_combined[['Have_IP', 'Have_At', 'URL_Length', 'URL_Depth']].corr()\n",
    "\n",
    "plt.figure(figsize=(10, 8))\n",
    "sns.heatmap(df_corr, annot=True, cmap='coolwarm')\n",
    "\n",
    "plt.title('Correlation Heatmap of Features')\n",
    "plt.show()"
   ]
  },
  {
   "cell_type": "code",
   "execution_count": 113,
   "id": "1ac0c973-6dab-43b0-812b-dbd921819ee0",
   "metadata": {},
   "outputs": [
    {
     "name": "stdout",
     "output_type": "stream",
     "text": [
      "Error processing URL http://ladiesfirst-privileges[.]com/656465/d5678h9.exe: '.' does not appear to be an IPv4 or IPv6 address\n",
      "   Have_IP  Have_At  URL_Length  URL_Depth  TinyURL\n",
      "0      0.0      0.0         0.0        0.0      1.0\n",
      "1      0.0      0.0         0.0        0.0      1.0\n",
      "2      0.0      0.0         0.0        0.0      1.0\n",
      "3      0.0      0.0         0.0        0.0      1.0\n",
      "4      0.0      0.0         0.0        0.0      1.0\n"
     ]
    }
   ],
   "source": [
    "# Apply feature extraction and convert features into separate columns\n",
    "df_combined[['Have_IP', 'Have_At', 'URL_Length', 'URL_Depth', 'TinyURL']] = df_combined['url'].apply(lambda x: pd.Series(featureExtraction(x)))\n",
    "\n",
    "# check\n",
    "print(df_combined[['Have_IP', 'Have_At', 'URL_Length', 'URL_Depth', 'TinyURL']].head())\n"
   ]
  },
  {
   "cell_type": "code",
   "execution_count": 119,
   "id": "54e796bb-0deb-4b5e-9700-50383d4febed",
   "metadata": {},
   "outputs": [
    {
     "name": "stdout",
     "output_type": "stream",
     "text": [
      "    Have_IP   Have_At  URL_Length  URL_Depth  TinyURL\n",
      "0 -0.080045 -0.081286   -0.965534  -1.348418      0.0\n",
      "1 -0.080045 -0.081286   -0.965534  -1.348418      0.0\n",
      "2 -0.080045 -0.081286   -0.965534  -1.348418      0.0\n",
      "3 -0.080045 -0.081286   -0.965534  -1.348418      0.0\n",
      "4 -0.080045 -0.081286   -0.965534  -1.348418      0.0\n"
     ]
    }
   ],
   "source": [
    "# Check head before scaling\n",
    "print(df_combined[['Have_IP', 'Have_At', 'URL_Length', 'URL_Depth', 'TinyURL']].head())\n"
   ]
  },
  {
   "cell_type": "code",
   "execution_count": 134,
   "id": "b84a8b10-9593-42bd-a79f-12673e0ebab2",
   "metadata": {},
   "outputs": [
    {
     "name": "stdout",
     "output_type": "stream",
     "text": [
      "URL: https://www.google.com\n",
      "Extracted features: [0, 0, 0, 0, 0]\n",
      "URL: https://www.youtube.com\n",
      "Extracted features: [0, 0, 0, 0, 0]\n",
      "URL: https://www.facebook.com\n",
      "Extracted features: [0, 0, 0, 0, 0]\n",
      "URL: https://www.baidu.com\n",
      "Extracted features: [0, 0, 0, 0, 0]\n",
      "URL: https://www.wikipedia.org\n",
      "Extracted features: [0, 0, 0, 0, 0]\n"
     ]
    }
   ],
   "source": [
    "# Print the head URLs and their extracted features\n",
    "for i in range(5):\n",
    "    print(f\"URL: {df_combined['url'].iloc[i]}\")\n",
    "    print(f\"Extracted features: {featureExtraction(df_combined['url'].iloc[i])}\")\n"
   ]
  },
  {
   "cell_type": "code",
   "execution_count": 138,
   "id": "c09c4ad0-45db-48d3-9ab0-b966bb49d72a",
   "metadata": {},
   "outputs": [
    {
     "name": "stdout",
     "output_type": "stream",
     "text": [
      "    Have_IP   Have_At  URL_Length  URL_Depth   TinyURL\n",
      "0 -0.080045 -0.081286   -0.965534  -1.348418 -0.266035\n",
      "1 -0.080045 -0.081286   -0.965534  -1.348418 -0.266035\n",
      "2 -0.080045 -0.081286   -0.965534  -1.348418 -0.266035\n",
      "3 -0.080045 -0.081286   -0.965534  -1.348418 -0.266035\n",
      "4 -0.080045 -0.081286   -0.965534  -1.348418 -0.266035\n"
     ]
    }
   ],
   "source": [
    "from sklearn.preprocessing import StandardScaler\n",
    "\n",
    "# Select numerical features for scaling\n",
    "numerical_features = ['Have_IP', 'Have_At', 'URL_Length', 'URL_Depth', 'TinyURL']\n",
    "\n",
    "# Initialize scaler\n",
    "scaler = StandardScaler()\n",
    "\n",
    "# Scale features\n",
    "df_combined[numerical_features] = scaler.fit_transform(df_combined[numerical_features])\n",
    "\n",
    "# Check\n",
    "print(df_combined[numerical_features].head())\n"
   ]
  },
  {
   "cell_type": "code",
   "execution_count": 144,
   "id": "a7ede43b-ee5e-4cbc-918b-1b58e524ff17",
   "metadata": {},
   "outputs": [
    {
     "name": "stdout",
     "output_type": "stream",
     "text": [
      "Accuracy: 0.6459527300191035\n",
      "Classification Report:\n",
      "               precision    recall  f1-score   support\n",
      "\n",
      "           0       0.84      0.66      0.74     68921\n",
      "           1       0.35      0.58      0.44     21115\n",
      "\n",
      "    accuracy                           0.65     90036\n",
      "   macro avg       0.59      0.62      0.59     90036\n",
      "weighted avg       0.72      0.65      0.67     90036\n",
      "\n"
     ]
    }
   ],
   "source": [
    "from sklearn.model_selection import train_test_split\n",
    "from imblearn.over_sampling import SMOTE\n",
    "from sklearn.ensemble import RandomForestClassifier\n",
    "from sklearn.metrics import accuracy_score, classification_report\n",
    "\n",
    "numerical_features = ['Have_IP', 'Have_At', 'URL_Length', 'URL_Depth', 'TinyURL']\n",
    "\n",
    "# Define X (features) and y (target)\n",
    "X = df_combined[numerical_features]\n",
    "y = df_combined['result']\n",
    "\n",
    "# Step 1: Perform the train-test split\n",
    "X_train, X_test, y_train, y_test = train_test_split(X, y, test_size=0.2, random_state=42)\n",
    "\n",
    "# Step 2: Use SMOTE to balance the training data\n",
    "smote = SMOTE(random_state=42)\n",
    "X_train_resampled, y_train_resampled = smote.fit_resample(X_train, y_train)\n",
    "\n",
    "# Step 3: Train the model on the resampled data\n",
    "rf_model = RandomForestClassifier(n_estimators=100, random_state=42)\n",
    "rf_model.fit(X_train_resampled, y_train_resampled)\n",
    "\n",
    "# Step 4: Make predictions on the test set\n",
    "y_pred = rf_model.predict(X_test)\n",
    "\n",
    "# Step 5: Evaluate the model\n",
    "print(\"Accuracy:\", accuracy_score(y_test, y_pred))\n",
    "print(\"Classification Report:\\n\", classification_report(y_test, y_pred))\n"
   ]
  },
  {
   "cell_type": "code",
   "execution_count": 147,
   "id": "90169f35-4e06-4821-b45f-a9c0473fb89e",
   "metadata": {},
   "outputs": [
    {
     "name": "stdout",
     "output_type": "stream",
     "text": [
      "Epoch 1/5\n"
     ]
    },
    {
     "name": "stderr",
     "output_type": "stream",
     "text": [
      "C:\\Users\\kesha\\anaconda3\\Lib\\site-packages\\keras\\src\\layers\\core\\embedding.py:90: UserWarning: Argument `input_length` is deprecated. Just remove it.\n",
      "  warnings.warn(\n"
     ]
    },
    {
     "name": "stdout",
     "output_type": "stream",
     "text": [
      "\u001b[1m2814/2814\u001b[0m \u001b[32m━━━━━━━━━━━━━━━━━━━━\u001b[0m\u001b[37m\u001b[0m \u001b[1m957s\u001b[0m 338ms/step - accuracy: 0.9411 - loss: 0.1602 - val_accuracy: 0.9929 - val_loss: 0.0247\n",
      "Epoch 2/5\n",
      "\u001b[1m2814/2814\u001b[0m \u001b[32m━━━━━━━━━━━━━━━━━━━━\u001b[0m\u001b[37m\u001b[0m \u001b[1m996s\u001b[0m 342ms/step - accuracy: 0.9936 - loss: 0.0228 - val_accuracy: 0.9942 - val_loss: 0.0218\n",
      "Epoch 3/5\n",
      "\u001b[1m2814/2814\u001b[0m \u001b[32m━━━━━━━━━━━━━━━━━━━━\u001b[0m\u001b[37m\u001b[0m \u001b[1m934s\u001b[0m 325ms/step - accuracy: 0.9952 - loss: 0.0178 - val_accuracy: 0.9952 - val_loss: 0.0170\n",
      "Epoch 4/5\n",
      "\u001b[1m2814/2814\u001b[0m \u001b[32m━━━━━━━━━━━━━━━━━━━━\u001b[0m\u001b[37m\u001b[0m \u001b[1m842s\u001b[0m 297ms/step - accuracy: 0.9959 - loss: 0.0150 - val_accuracy: 0.9958 - val_loss: 0.0148\n",
      "Epoch 5/5\n",
      "\u001b[1m2814/2814\u001b[0m \u001b[32m━━━━━━━━━━━━━━━━━━━━\u001b[0m\u001b[37m\u001b[0m \u001b[1m962s\u001b[0m 342ms/step - accuracy: 0.9964 - loss: 0.0130 - val_accuracy: 0.9961 - val_loss: 0.0142\n",
      "\u001b[1m2814/2814\u001b[0m \u001b[32m━━━━━━━━━━━━━━━━━━━━\u001b[0m\u001b[37m\u001b[0m \u001b[1m113s\u001b[0m 40ms/step - accuracy: 0.9963 - loss: 0.0148\n",
      "Test Accuracy: 0.9961126446723938\n"
     ]
    }
   ],
   "source": [
    "import pandas as pd\n",
    "import numpy as np\n",
    "from sklearn.model_selection import train_test_split\n",
    "from tensorflow.keras.preprocessing.text import Tokenizer\n",
    "from tensorflow.keras.preprocessing.sequence import pad_sequences\n",
    "from tensorflow.keras.models import Sequential\n",
    "from tensorflow.keras.layers import Embedding, GRU, Dense\n",
    "from tensorflow.keras.optimizers import Adam\n",
    "\n",
    "# Step 1: Prepare the data (0 for benign, 1 for phishing)\n",
    "\n",
    "# Tokenize the URLs (character-level tokenization)\n",
    "tokenizer = Tokenizer(char_level=True)\n",
    "tokenizer.fit_on_texts(df_combined['url'])\n",
    "\n",
    "# Convert the URLs into sequences of integers\n",
    "url_sequences = tokenizer.texts_to_sequences(df_combined['url'])\n",
    "\n",
    "# Pad the sequences to make them of equal length\n",
    "max_sequence_length = 100  # can be adjusted based on data\n",
    "X = pad_sequences(url_sequences, maxlen=max_sequence_length)\n",
    "\n",
    "# Target labels\n",
    "y = df_combined['result'].values\n",
    "\n",
    "# Step 2: Train-Test Split\n",
    "X_train, X_test, y_train, y_test = train_test_split(X, y, test_size=0.2, random_state=42)\n",
    "\n",
    "# Step 3: Build the GRU model\n",
    "vocab_size = len(tokenizer.word_index) + 1  # Total number of unique characters\n",
    "embedding_dim = 50  # Size of the character embedding vectors\n",
    "\n",
    "model = Sequential()\n",
    "\n",
    "# Embedding layer (convert each character to a dense vector)\n",
    "model.add(Embedding(input_dim=vocab_size, output_dim=embedding_dim, input_length=max_sequence_length))\n",
    "\n",
    "# GRU layer\n",
    "model.add(GRU(128, return_sequences=False))\n",
    "\n",
    "# Output layer (binary classification)\n",
    "model.add(Dense(1, activation='sigmoid'))\n",
    "\n",
    "# Compile the model\n",
    "model.compile(optimizer=Adam(learning_rate=0.001), loss='binary_crossentropy', metrics=['accuracy'])\n",
    "\n",
    "# Step 4: Train the model\n",
    "model.fit(X_train, y_train, epochs=5, batch_size=128, validation_data=(X_test, y_test))\n",
    "\n",
    "# Step 5: Evaluate the model\n",
    "loss, accuracy = model.evaluate(X_test, y_test)\n",
    "print(f'Test Accuracy: {accuracy}')\n"
   ]
  }
 ],
 "metadata": {
  "kernelspec": {
   "display_name": "Python 3 (ipykernel)",
   "language": "python",
   "name": "python3"
  },
  "language_info": {
   "codemirror_mode": {
    "name": "ipython",
    "version": 3
   },
   "file_extension": ".py",
   "mimetype": "text/x-python",
   "name": "python",
   "nbconvert_exporter": "python",
   "pygments_lexer": "ipython3",
   "version": "3.12.4"
  }
 },
 "nbformat": 4,
 "nbformat_minor": 5
}
